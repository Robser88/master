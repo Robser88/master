{
 "cells": [
  {
   "cell_type": "code",
   "execution_count": 40,
   "id": "cca4b670-2b67-4f48-9805-35a8de7b7176",
   "metadata": {},
   "outputs": [
    {
     "name": "stdin",
     "output_type": "stream",
     "text": [
      "Favor digitar el dato a buscar 40\n"
     ]
    },
    {
     "data": {
      "text/plain": [
       "True"
      ]
     },
     "execution_count": 40,
     "metadata": {},
     "output_type": "execute_result"
    }
   ],
   "source": [
    "list1 =[\"abc\",\"34\",\"true\",\"40\",\"male\"]\n",
    "x=str(input(\"Favor digitar el dato a buscar\"))\n",
    "    \n",
    "def rec_fun(x):\n",
    "    return x in list1\n",
    "rec_fun(x)"
   ]
  }
 ],
 "metadata": {
  "kernelspec": {
   "display_name": "Python 3 (ipykernel)",
   "language": "python",
   "name": "python3"
  },
  "language_info": {
   "codemirror_mode": {
    "name": "ipython",
    "version": 3
   },
   "file_extension": ".py",
   "mimetype": "text/x-python",
   "name": "python",
   "nbconvert_exporter": "python",
   "pygments_lexer": "ipython3",
   "version": "3.9.7"
  }
 },
 "nbformat": 4,
 "nbformat_minor": 5
}
