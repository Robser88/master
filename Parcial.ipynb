{
 "cells": [
  {
   "cell_type": "code",
   "execution_count": 11,
   "id": "af5e64ff-24fb-4eea-8c21-ae8985c93390",
   "metadata": {},
   "outputs": [
    {
     "name": "stdout",
     "output_type": "stream",
     "text": [
      "El Producto de la Multiplicacion es: 40\n",
      "El resultado de la Resta es: -1\n"
     ]
    }
   ],
   "source": [
    "Oper=[{\"n1\":5,\"n2\":8,\"Op\" : \"Multiplicacion\"},{\"n1\":1,\"n2\":2,\"Op\":\"Resta\"}]\n",
    "a=(Oper[0])\n",
    "a1=list(a.values())\n",
    "b=(Oper[1])\n",
    "b1=list(b.values())\n",
    "\n",
    "\n",
    "def Mult(Numero,p):\n",
    "    Numero = a1[1]\n",
    "    p=0\n",
    "    while Numero > 0:\n",
    "        p=p+a1[0]\n",
    "        Numero=Numero-1\n",
    "    print(\"El Producto de la \" + a1[2] + \" es: \" + str(p))\n",
    "                       \n",
    "Mult(0,0)\n",
    "\n",
    "def Resta(resul):\n",
    "    resul=b1[0]-b1[1]\n",
    "    print(\"El resultado de la \" + b1[2] + \" es: \" + str(resul))\n",
    "                       \n",
    "Resta(0)\n"
   ]
  },
  {
   "cell_type": "code",
   "execution_count": null,
   "id": "a76abab4-512c-453e-b226-fe048305b5d2",
   "metadata": {},
   "outputs": [],
   "source": []
  }
 ],
 "metadata": {
  "kernelspec": {
   "display_name": "Python 3 (ipykernel)",
   "language": "python",
   "name": "python3"
  },
  "language_info": {
   "codemirror_mode": {
    "name": "ipython",
    "version": 3
   },
   "file_extension": ".py",
   "mimetype": "text/x-python",
   "name": "python",
   "nbconvert_exporter": "python",
   "pygments_lexer": "ipython3",
   "version": "3.9.7"
  }
 },
 "nbformat": 4,
 "nbformat_minor": 5
}
